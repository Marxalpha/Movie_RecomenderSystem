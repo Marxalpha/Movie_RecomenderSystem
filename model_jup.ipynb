{
 "cells": [
  {
   "cell_type": "code",
   "execution_count": 1,
   "id": "f46e822f-84c7-4b2c-838c-79f4f8081d10",
   "metadata": {},
   "outputs": [],
   "source": [
    "import pandas as pd\n",
    "import numpy as np\n",
    "from ast import literal_eval\n",
    "\n",
    "from sklearn.feature_extraction.text import TfidfVectorizer, CountVectorizer\n",
    "from sklearn.metrics.pairwise import linear_kernel, cosine_similarity\n",
    "\n",
    "import nltk\n",
    "from nltk.stem.snowball import SnowballStemmer\n",
    "from nltk.stem import PorterStemmer\n",
    "from nltk.stem.wordnet import WordNetLemmatizer\n",
    "from nltk.corpus import wordnet\n",
    "\n",
    "from textblob import TextBlob, Word"
   ]
  },
  {
   "cell_type": "code",
   "execution_count": 2,
   "id": "fae85d5f",
   "metadata": {},
   "outputs": [],
   "source": [
    "movies_df=pd.read_csv('./imdb5000/tmdb_5000_movies.csv',low_memory=False)\n",
    "credits_df=pd.read_csv('./imdb5000/tmdb_5000_credits.csv')\n",
    "# ratings_df=pd.read_csv('./imdb5000/ratings.csv')\n",
    "\n",
    "# for index,row in movies_df.iterrows():\n",
    "# \ttry:\n",
    "# \t\trow[\"id\"]=int(row[\"id\"])\n",
    "# \texcept:\n",
    "# \t\tmovies_df.drop(index,axis=0,inplace=True)\n",
    "# credits_df[\"id\"]=credits_df[\"id\"].astype(object)\n",
    "# movies_df[\"id\"]=pd.to_numeric(movies_df[\"id\"])\n",
    "movies_copy0=pd.merge(movies_df,credits_df,how='left',right_on='movie_id',left_on='id')"
   ]
  },
  {
   "cell_type": "code",
   "execution_count": 3,
   "id": "ccd7d510-adf2-47a2-b94e-e31fbd0ac925",
   "metadata": {},
   "outputs": [
    {
     "name": "stdout",
     "output_type": "stream",
     "text": [
      "4803\n"
     ]
    }
   ],
   "source": [
    "c=movies_copy0[\"vote_average\"].mean()\n",
    "m=movies_copy0[\"vote_count\"].shape[0]\n",
    "print(m)\n",
    "# movie_list=movies_copy0.copy().loc[movies_copy0['vote_count']>=m\n",
    "movie_list=movies_copy0.copy()"
   ]
  },
  {
   "cell_type": "code",
   "execution_count": 4,
   "id": "2f92aec5-d0c8-4988-b55b-afc4e437b991",
   "metadata": {},
   "outputs": [],
   "source": [
    "def rating(x,M=m,C=c):\n",
    "    v=x['vote_count']\n",
    "    r=x['vote_average']\n",
    "    return (r*v + c*m)/(v+m)"
   ]
  },
  {
   "cell_type": "code",
   "execution_count": 5,
   "id": "68cf8625-0584-40cb-9d81-4a345fad2e05",
   "metadata": {},
   "outputs": [],
   "source": [
    "movie_list['score']=movie_list.apply(rating,axis=1)"
   ]
  },
  {
   "cell_type": "code",
   "execution_count": null,
   "id": "24127338-49cd-4414-baa9-28764c381c49",
   "metadata": {},
   "outputs": [],
   "source": []
  },
  {
   "cell_type": "code",
   "execution_count": 6,
   "id": "0ced9ce9-a3b1-4c32-ae04-41645a631953",
   "metadata": {},
   "outputs": [],
   "source": [
    "def get_val(row):\n",
    "    dic=literal_eval(row)\n",
    "    lst=[]\n",
    "    count=0\n",
    "    for d in dic:\n",
    "        count+=1\n",
    "        lst.append(d['name'])\n",
    "        if (count==max):\n",
    "            break\n",
    "    return lst\n",
    "\n",
    "def get_valmax(row):\n",
    "    dic=literal_eval(row)\n",
    "    lst=[]\n",
    "    for d in dic:\n",
    "        lst.append(d['name'])\n",
    "    return lst\n",
    "\n",
    "    # return [d['name'] for d in dic]"
   ]
  },
  {
   "cell_type": "code",
   "execution_count": 7,
   "id": "69aa343e-e58a-43d5-8014-cf3794a9f814",
   "metadata": {},
   "outputs": [],
   "source": [
    "def get_dir(row):\n",
    "    lst=[]\n",
    "    dic=literal_eval(row)\n",
    "    for i in dic:\n",
    "        if i['job']=='Director':\n",
    "            lst.append(i['name'])\n",
    "            break\n",
    "    return lst"
   ]
  },
  {
   "cell_type": "code",
   "execution_count": 8,
   "id": "289d5731-c883-4db7-a576-21ba9cc14c9b",
   "metadata": {},
   "outputs": [],
   "source": [
    "movie_list['Director']=list(movie_list['crew'].apply(get_dir))"
   ]
  },
  {
   "cell_type": "code",
   "execution_count": 9,
   "id": "0038fda8-a66a-4ac6-a061-d7833f130648",
   "metadata": {},
   "outputs": [],
   "source": [
    "movie_list['cast']=movie_list['cast'].apply(get_val)\n",
    "movie_list['genres']=movie_list['genres'].apply(get_val)"
   ]
  },
  {
   "cell_type": "code",
   "execution_count": 10,
   "id": "570189f6-bf55-4eb5-9d73-b2463db08234",
   "metadata": {},
   "outputs": [],
   "source": [
    "movie_list['keywords']=movie_list['keywords'].apply(get_valmax)"
   ]
  },
  {
   "cell_type": "code",
   "execution_count": 11,
   "id": "45f265f9-40aa-4461-8a6e-a25e4d09e54f",
   "metadata": {},
   "outputs": [],
   "source": [
    "movie_list['overview']=movie_list['overview'].fillna('')"
   ]
  },
  {
   "cell_type": "code",
   "execution_count": 12,
   "id": "09f203e2-9215-4fa5-b68d-71eaff01e32a",
   "metadata": {},
   "outputs": [],
   "source": [
    "movie_list['overview']=movie_list['overview'].apply(lambda x:x.split())"
   ]
  },
  {
   "cell_type": "code",
   "execution_count": 13,
   "id": "12572c8c",
   "metadata": {},
   "outputs": [],
   "source": [
    "movie_list['Director']=movie_list['Director'].fillna('')"
   ]
  },
  {
   "cell_type": "code",
   "execution_count": 14,
   "id": "eb525991",
   "metadata": {},
   "outputs": [
    {
     "data": {
      "text/plain": [
       "['ocean',\n",
       " 'drug abuse',\n",
       " 'exotic island',\n",
       " 'east india trading company',\n",
       " \"love of one's life\",\n",
       " 'traitor',\n",
       " 'shipwreck',\n",
       " 'strong woman',\n",
       " 'ship',\n",
       " 'alliance',\n",
       " 'calypso',\n",
       " 'afterlife',\n",
       " 'fighter',\n",
       " 'pirate',\n",
       " 'swashbuckler',\n",
       " 'aftercreditsstinger']"
      ]
     },
     "execution_count": 14,
     "metadata": {},
     "output_type": "execute_result"
    }
   ],
   "source": [
    "movie_list[\"keywords\"][1]\n"
   ]
  },
  {
   "cell_type": "code",
   "execution_count": 15,
   "id": "dccd2b8e-05b4-40db-a7bf-82511191cf63",
   "metadata": {},
   "outputs": [],
   "source": [
    "movie_list['cast'] = movie_list['cast'].apply(lambda x:[i.replace(\" \",\"\") for i in x])\n",
    "movie_list['genres'] = movie_list['genres'].apply(lambda x:[i.replace(\" \",\"\") for i in x])\n",
    "movie_list['keywords'] = movie_list['keywords'].apply(lambda x:[i.replace(\" \",\"\") for i in x])\n",
    "movie_list['Director']=movie_list['Director'].apply(lambda x:[i.replace(\" \",\"\") for i in x])"
   ]
  },
  {
   "cell_type": "code",
   "execution_count": 16,
   "id": "8a651604",
   "metadata": {},
   "outputs": [
    {
     "data": {
      "text/plain": [
       "['JohnnyDepp',\n",
       " 'OrlandoBloom',\n",
       " 'KeiraKnightley',\n",
       " 'StellanSkarsgård',\n",
       " 'ChowYun-fat',\n",
       " 'BillNighy',\n",
       " 'GeoffreyRush',\n",
       " 'JackDavenport',\n",
       " 'KevinMcNally',\n",
       " 'TomHollander',\n",
       " 'NaomieHarris',\n",
       " 'JonathanPryce',\n",
       " 'KeithRichards',\n",
       " 'LeeArenberg',\n",
       " 'MackenzieCrook',\n",
       " 'GregEllis',\n",
       " 'DavidBailie',\n",
       " 'MartinKlebba',\n",
       " 'DavidSchofield',\n",
       " 'LaurenMaher',\n",
       " 'VanessaBranch',\n",
       " 'AngusBarnett',\n",
       " 'GilesNew',\n",
       " 'ReggieLee',\n",
       " 'DominicScottKay',\n",
       " 'TakayoFischer',\n",
       " 'DavidMeunier',\n",
       " 'Ho-KwanTse',\n",
       " 'AndyBeckwith',\n",
       " 'PeterDonaldBadalamentiII',\n",
       " 'ChristopherS.Capp',\n",
       " 'KeithRichards',\n",
       " 'HakeemKae-Kazim',\n",
       " 'GhassanMassoud']"
      ]
     },
     "execution_count": 16,
     "metadata": {},
     "output_type": "execute_result"
    }
   ],
   "source": [
    "movie_list['cast'][1]"
   ]
  },
  {
   "cell_type": "code",
   "execution_count": 17,
   "id": "77529807-3d75-4f2c-88c6-5f38e85d6537",
   "metadata": {},
   "outputs": [],
   "source": [
    "def create_fet(x):\n",
    "    return ' '.join(x['overview'])+' '+' '.join(x['genres'])+' '.join(x['keywords'])+' '.join(x['cast'])+' '+\" \".join(x['Director'])"
   ]
  },
  {
   "cell_type": "code",
   "execution_count": 18,
   "id": "a753da00",
   "metadata": {},
   "outputs": [],
   "source": [
    "movie_list['tags']=movie_list.apply(create_fet,axis=1)"
   ]
  },
  {
   "cell_type": "code",
   "execution_count": 19,
   "id": "17b64634-2ae1-4763-992b-1f5b6a356a67",
   "metadata": {},
   "outputs": [],
   "source": [
    "movie_list['tags']=movie_list['tags'].apply(lambda x:x.lower())"
   ]
  },
  {
   "cell_type": "code",
   "execution_count": 20,
   "id": "1d02c485-49dd-4485-9d24-f6d4a408275f",
   "metadata": {},
   "outputs": [],
   "source": [
    "tfdif=CountVectorizer(stop_words=\"english\")"
   ]
  },
  {
   "cell_type": "code",
   "execution_count": 21,
   "id": "d0ad232b",
   "metadata": {},
   "outputs": [],
   "source": [
    "lemmatizer = WordNetLemmatizer()\n",
    "ps=PorterStemmer()"
   ]
  },
  {
   "cell_type": "code",
   "execution_count": 22,
   "id": "52669ed9-dcd3-4be5-a9a1-ff63b821b8f3",
   "metadata": {},
   "outputs": [],
   "source": [
    "def get_wordnet_pos(word):\n",
    "    \"\"\"Map POS tag to first character lemmatize() accepts\"\"\"\n",
    "    tag = nltk.pos_tag([word])[0][1][0].upper()\n",
    "    tag_dict = {\"J\": wordnet.ADJ,\n",
    "                \"N\": wordnet.NOUN,\n",
    "                \"V\": wordnet.VERB,\n",
    "                \"R\": wordnet.ADV}\n",
    "\n",
    "    return tag_dict.get(tag, wordnet.NOUN)"
   ]
  },
  {
   "cell_type": "code",
   "execution_count": 23,
   "id": "2911dc33-fb1c-4261-be42-8b576bbe64dd",
   "metadata": {},
   "outputs": [],
   "source": [
    "def lemmatizerfunc(sentence):\n",
    "    return \" \".join([lemmatizer.lemmatize(w, get_wordnet_pos(w)) for w in nltk.word_tokenize(sentence)])"
   ]
  },
  {
   "cell_type": "code",
   "execution_count": 24,
   "id": "dbabf4f4-d3e2-409e-a090-32bbab11061e",
   "metadata": {},
   "outputs": [],
   "source": [
    "def stemmer(sen):\n",
    "    lst=[]\n",
    "    for i in sen.split():\n",
    "        lst.append(ps.stem(i))\n",
    "    return \" \".join(lst)"
   ]
  },
  {
   "cell_type": "code",
   "execution_count": 25,
   "id": "30783312-4ed1-4d81-8b78-b9877ffde449",
   "metadata": {},
   "outputs": [],
   "source": [
    "def lemmatize_with_postag(sentence):\n",
    "    sent = TextBlob(sentence)\n",
    "    tag_dict = {\"J\": 'a', \n",
    "                \"N\": 'n', \n",
    "                \"V\": 'v', \n",
    "                \"R\": 'r'}\n",
    "    words_and_tags = [(w, tag_dict.get(pos[0], 'n')) for w, pos in sent.tags]    \n",
    "    lemmatized_list = [wd.lemmatize(tag) for wd, tag in words_and_tags]\n",
    "    return \" \".join(lemmatized_list)"
   ]
  },
  {
   "cell_type": "code",
   "execution_count": 26,
   "id": "52a2934f-7130-48b7-b9dd-8a9600bef3cb",
   "metadata": {},
   "outputs": [],
   "source": [
    "movie_list['l1']=movie_list['tags'].apply(lemmatizerfunc)\n",
    "movie_list['l2']=movie_list['tags'].apply(stemmer)\n",
    "movie_list['l3']=movie_list['tags'].apply(lemmatize_with_postag)"
   ]
  },
  {
   "cell_type": "code",
   "execution_count": 27,
   "id": "c4cc4fee-1037-4ce1-aea4-e383eb22dfc4",
   "metadata": {},
   "outputs": [],
   "source": [
    "vec1=tfdif.fit_transform(movie_list['l1']).toarray()\n",
    "vec2=tfdif.fit_transform(movie_list['l2']).toarray()\n",
    "vec3=tfdif.fit_transform(movie_list['l3']).toarray()"
   ]
  },
  {
   "cell_type": "code",
   "execution_count": 28,
   "id": "845e3f1f",
   "metadata": {},
   "outputs": [
    {
     "data": {
      "text/html": [
       "<div>\n",
       "<style scoped>\n",
       "    .dataframe tbody tr th:only-of-type {\n",
       "        vertical-align: middle;\n",
       "    }\n",
       "\n",
       "    .dataframe tbody tr th {\n",
       "        vertical-align: top;\n",
       "    }\n",
       "\n",
       "    .dataframe thead th {\n",
       "        text-align: right;\n",
       "    }\n",
       "</style>\n",
       "<table border=\"1\" class=\"dataframe\">\n",
       "  <thead>\n",
       "    <tr style=\"text-align: right;\">\n",
       "      <th></th>\n",
       "      <th>budget</th>\n",
       "      <th>genres</th>\n",
       "      <th>homepage</th>\n",
       "      <th>id</th>\n",
       "      <th>keywords</th>\n",
       "      <th>original_language</th>\n",
       "      <th>original_title</th>\n",
       "      <th>overview</th>\n",
       "      <th>popularity</th>\n",
       "      <th>production_companies</th>\n",
       "      <th>...</th>\n",
       "      <th>movie_id</th>\n",
       "      <th>title_y</th>\n",
       "      <th>cast</th>\n",
       "      <th>crew</th>\n",
       "      <th>score</th>\n",
       "      <th>Director</th>\n",
       "      <th>tags</th>\n",
       "      <th>l1</th>\n",
       "      <th>l2</th>\n",
       "      <th>l3</th>\n",
       "    </tr>\n",
       "  </thead>\n",
       "  <tbody>\n",
       "    <tr>\n",
       "      <th>0</th>\n",
       "      <td>237000000</td>\n",
       "      <td>[Action, Adventure, Fantasy, ScienceFiction]</td>\n",
       "      <td>http://www.avatarmovie.com/</td>\n",
       "      <td>19995</td>\n",
       "      <td>[cultureclash, future, spacewar, spacecolony, ...</td>\n",
       "      <td>en</td>\n",
       "      <td>Avatar</td>\n",
       "      <td>[In, the, 22nd, century,, a, paraplegic, Marin...</td>\n",
       "      <td>150.437577</td>\n",
       "      <td>[{\"name\": \"Ingenious Film Partners\", \"id\": 289...</td>\n",
       "      <td>...</td>\n",
       "      <td>19995</td>\n",
       "      <td>Avatar</td>\n",
       "      <td>[SamWorthington, ZoeSaldana, SigourneyWeaver, ...</td>\n",
       "      <td>[{\"credit_id\": \"52fe48009251416c750aca23\", \"de...</td>\n",
       "      <td>6.879522</td>\n",
       "      <td>[JamesCameron]</td>\n",
       "      <td>in the 22nd century, a paraplegic marine is di...</td>\n",
       "      <td>in the 22nd century , a paraplegic marine be d...</td>\n",
       "      <td>in the 22nd century, a parapleg marin is dispa...</td>\n",
       "      <td>in the 22nd century a paraplegic marine be dis...</td>\n",
       "    </tr>\n",
       "    <tr>\n",
       "      <th>1</th>\n",
       "      <td>300000000</td>\n",
       "      <td>[Adventure, Fantasy, Action]</td>\n",
       "      <td>http://disney.go.com/disneypictures/pirates/</td>\n",
       "      <td>285</td>\n",
       "      <td>[ocean, drugabuse, exoticisland, eastindiatrad...</td>\n",
       "      <td>en</td>\n",
       "      <td>Pirates of the Caribbean: At World's End</td>\n",
       "      <td>[Captain, Barbossa,, long, believed, to, be, d...</td>\n",
       "      <td>139.082615</td>\n",
       "      <td>[{\"name\": \"Walt Disney Pictures\", \"id\": 2}, {\"...</td>\n",
       "      <td>...</td>\n",
       "      <td>285</td>\n",
       "      <td>Pirates of the Caribbean: At World's End</td>\n",
       "      <td>[JohnnyDepp, OrlandoBloom, KeiraKnightley, Ste...</td>\n",
       "      <td>[{\"credit_id\": \"52fe4232c3a36847f800b579\", \"de...</td>\n",
       "      <td>6.482930</td>\n",
       "      <td>[GoreVerbinski]</td>\n",
       "      <td>captain barbossa, long believed to be dead, ha...</td>\n",
       "      <td>captain barbossa , long believe to be dead , h...</td>\n",
       "      <td>captain barbossa, long believ to be dead, ha c...</td>\n",
       "      <td>captain barbossa long believe to be dead have ...</td>\n",
       "    </tr>\n",
       "    <tr>\n",
       "      <th>2</th>\n",
       "      <td>245000000</td>\n",
       "      <td>[Action, Adventure, Crime]</td>\n",
       "      <td>http://www.sonypictures.com/movies/spectre/</td>\n",
       "      <td>206647</td>\n",
       "      <td>[spy, basedonnovel, secretagent, sequel, mi6, ...</td>\n",
       "      <td>en</td>\n",
       "      <td>Spectre</td>\n",
       "      <td>[A, cryptic, message, from, Bond’s, past, send...</td>\n",
       "      <td>107.376788</td>\n",
       "      <td>[{\"name\": \"Columbia Pictures\", \"id\": 5}, {\"nam...</td>\n",
       "      <td>...</td>\n",
       "      <td>206647</td>\n",
       "      <td>Spectre</td>\n",
       "      <td>[DanielCraig, ChristophWaltz, LéaSeydoux, Ralp...</td>\n",
       "      <td>[{\"credit_id\": \"54805967c3a36829b5002c41\", \"de...</td>\n",
       "      <td>6.192308</td>\n",
       "      <td>[SamMendes]</td>\n",
       "      <td>a cryptic message from bond’s past sends him o...</td>\n",
       "      <td>a cryptic message from bond ’ s past sends him...</td>\n",
       "      <td>a cryptic messag from bond’ past send him on a...</td>\n",
       "      <td>a cryptic message from bond ’ s past sends him...</td>\n",
       "    </tr>\n",
       "    <tr>\n",
       "      <th>3</th>\n",
       "      <td>250000000</td>\n",
       "      <td>[Action, Crime, Drama, Thriller]</td>\n",
       "      <td>http://www.thedarkknightrises.com/</td>\n",
       "      <td>49026</td>\n",
       "      <td>[dccomics, crimefighter, terrorist, secretiden...</td>\n",
       "      <td>en</td>\n",
       "      <td>The Dark Knight Rises</td>\n",
       "      <td>[Following, the, death, of, District, Attorney...</td>\n",
       "      <td>112.312950</td>\n",
       "      <td>[{\"name\": \"Legendary Pictures\", \"id\": 923}, {\"...</td>\n",
       "      <td>...</td>\n",
       "      <td>49026</td>\n",
       "      <td>The Dark Knight Rises</td>\n",
       "      <td>[ChristianBale, MichaelCaine, GaryOldman, Anne...</td>\n",
       "      <td>[{\"credit_id\": \"52fe4781c3a36847f81398c3\", \"de...</td>\n",
       "      <td>7.079323</td>\n",
       "      <td>[ChristopherNolan]</td>\n",
       "      <td>following the death of district attorney harve...</td>\n",
       "      <td>follow the death of district attorney harvey d...</td>\n",
       "      <td>follow the death of district attorney harvey d...</td>\n",
       "      <td>follow the death of district attorney harvey d...</td>\n",
       "    </tr>\n",
       "    <tr>\n",
       "      <th>4</th>\n",
       "      <td>260000000</td>\n",
       "      <td>[Action, Adventure, ScienceFiction]</td>\n",
       "      <td>http://movies.disney.com/john-carter</td>\n",
       "      <td>49529</td>\n",
       "      <td>[basedonnovel, mars, medallion, spacetravel, p...</td>\n",
       "      <td>en</td>\n",
       "      <td>John Carter</td>\n",
       "      <td>[John, Carter, is, a, war-weary,, former, mili...</td>\n",
       "      <td>43.926995</td>\n",
       "      <td>[{\"name\": \"Walt Disney Pictures\", \"id\": 2}]</td>\n",
       "      <td>...</td>\n",
       "      <td>49529</td>\n",
       "      <td>John Carter</td>\n",
       "      <td>[TaylorKitsch, LynnCollins, SamanthaMorton, Wi...</td>\n",
       "      <td>[{\"credit_id\": \"52fe479ac3a36847f813eaa3\", \"de...</td>\n",
       "      <td>6.094572</td>\n",
       "      <td>[AndrewStanton]</td>\n",
       "      <td>john carter is a war-weary, former military ca...</td>\n",
       "      <td>john carter be a war-weary , former military c...</td>\n",
       "      <td>john carter is a war-weary, former militari ca...</td>\n",
       "      <td>john carter be a war-weary former military cap...</td>\n",
       "    </tr>\n",
       "  </tbody>\n",
       "</table>\n",
       "<p>5 rows × 30 columns</p>\n",
       "</div>"
      ],
      "text/plain": [
       "      budget                                        genres  \\\n",
       "0  237000000  [Action, Adventure, Fantasy, ScienceFiction]   \n",
       "1  300000000                  [Adventure, Fantasy, Action]   \n",
       "2  245000000                    [Action, Adventure, Crime]   \n",
       "3  250000000              [Action, Crime, Drama, Thriller]   \n",
       "4  260000000           [Action, Adventure, ScienceFiction]   \n",
       "\n",
       "                                       homepage      id  \\\n",
       "0                   http://www.avatarmovie.com/   19995   \n",
       "1  http://disney.go.com/disneypictures/pirates/     285   \n",
       "2   http://www.sonypictures.com/movies/spectre/  206647   \n",
       "3            http://www.thedarkknightrises.com/   49026   \n",
       "4          http://movies.disney.com/john-carter   49529   \n",
       "\n",
       "                                            keywords original_language  \\\n",
       "0  [cultureclash, future, spacewar, spacecolony, ...                en   \n",
       "1  [ocean, drugabuse, exoticisland, eastindiatrad...                en   \n",
       "2  [spy, basedonnovel, secretagent, sequel, mi6, ...                en   \n",
       "3  [dccomics, crimefighter, terrorist, secretiden...                en   \n",
       "4  [basedonnovel, mars, medallion, spacetravel, p...                en   \n",
       "\n",
       "                             original_title  \\\n",
       "0                                    Avatar   \n",
       "1  Pirates of the Caribbean: At World's End   \n",
       "2                                   Spectre   \n",
       "3                     The Dark Knight Rises   \n",
       "4                               John Carter   \n",
       "\n",
       "                                            overview  popularity  \\\n",
       "0  [In, the, 22nd, century,, a, paraplegic, Marin...  150.437577   \n",
       "1  [Captain, Barbossa,, long, believed, to, be, d...  139.082615   \n",
       "2  [A, cryptic, message, from, Bond’s, past, send...  107.376788   \n",
       "3  [Following, the, death, of, District, Attorney...  112.312950   \n",
       "4  [John, Carter, is, a, war-weary,, former, mili...   43.926995   \n",
       "\n",
       "                                production_companies  ... movie_id  \\\n",
       "0  [{\"name\": \"Ingenious Film Partners\", \"id\": 289...  ...    19995   \n",
       "1  [{\"name\": \"Walt Disney Pictures\", \"id\": 2}, {\"...  ...      285   \n",
       "2  [{\"name\": \"Columbia Pictures\", \"id\": 5}, {\"nam...  ...   206647   \n",
       "3  [{\"name\": \"Legendary Pictures\", \"id\": 923}, {\"...  ...    49026   \n",
       "4        [{\"name\": \"Walt Disney Pictures\", \"id\": 2}]  ...    49529   \n",
       "\n",
       "                                    title_y  \\\n",
       "0                                    Avatar   \n",
       "1  Pirates of the Caribbean: At World's End   \n",
       "2                                   Spectre   \n",
       "3                     The Dark Knight Rises   \n",
       "4                               John Carter   \n",
       "\n",
       "                                                cast  \\\n",
       "0  [SamWorthington, ZoeSaldana, SigourneyWeaver, ...   \n",
       "1  [JohnnyDepp, OrlandoBloom, KeiraKnightley, Ste...   \n",
       "2  [DanielCraig, ChristophWaltz, LéaSeydoux, Ralp...   \n",
       "3  [ChristianBale, MichaelCaine, GaryOldman, Anne...   \n",
       "4  [TaylorKitsch, LynnCollins, SamanthaMorton, Wi...   \n",
       "\n",
       "                                                crew     score  \\\n",
       "0  [{\"credit_id\": \"52fe48009251416c750aca23\", \"de...  6.879522   \n",
       "1  [{\"credit_id\": \"52fe4232c3a36847f800b579\", \"de...  6.482930   \n",
       "2  [{\"credit_id\": \"54805967c3a36829b5002c41\", \"de...  6.192308   \n",
       "3  [{\"credit_id\": \"52fe4781c3a36847f81398c3\", \"de...  7.079323   \n",
       "4  [{\"credit_id\": \"52fe479ac3a36847f813eaa3\", \"de...  6.094572   \n",
       "\n",
       "             Director                                               tags  \\\n",
       "0      [JamesCameron]  in the 22nd century, a paraplegic marine is di...   \n",
       "1     [GoreVerbinski]  captain barbossa, long believed to be dead, ha...   \n",
       "2         [SamMendes]  a cryptic message from bond’s past sends him o...   \n",
       "3  [ChristopherNolan]  following the death of district attorney harve...   \n",
       "4     [AndrewStanton]  john carter is a war-weary, former military ca...   \n",
       "\n",
       "                                                  l1  \\\n",
       "0  in the 22nd century , a paraplegic marine be d...   \n",
       "1  captain barbossa , long believe to be dead , h...   \n",
       "2  a cryptic message from bond ’ s past sends him...   \n",
       "3  follow the death of district attorney harvey d...   \n",
       "4  john carter be a war-weary , former military c...   \n",
       "\n",
       "                                                  l2  \\\n",
       "0  in the 22nd century, a parapleg marin is dispa...   \n",
       "1  captain barbossa, long believ to be dead, ha c...   \n",
       "2  a cryptic messag from bond’ past send him on a...   \n",
       "3  follow the death of district attorney harvey d...   \n",
       "4  john carter is a war-weary, former militari ca...   \n",
       "\n",
       "                                                  l3  \n",
       "0  in the 22nd century a paraplegic marine be dis...  \n",
       "1  captain barbossa long believe to be dead have ...  \n",
       "2  a cryptic message from bond ’ s past sends him...  \n",
       "3  follow the death of district attorney harvey d...  \n",
       "4  john carter be a war-weary former military cap...  \n",
       "\n",
       "[5 rows x 30 columns]"
      ]
     },
     "execution_count": 28,
     "metadata": {},
     "output_type": "execute_result"
    }
   ],
   "source": [
    "movie_list.head()"
   ]
  },
  {
   "cell_type": "code",
   "execution_count": 29,
   "id": "279077ef",
   "metadata": {},
   "outputs": [
    {
     "data": {
      "text/plain": [
       "'in the 22nd century, a paraplegic marine is dispatched to the moon pandora on a unique mission, but becomes torn between following orders and protecting an alien civilization. action adventure fantasy sciencefictioncultureclash future spacewar spacecolony society spacetravel futuristic romance space alien tribe alienplanet cgi marine soldier battle loveaffair antiwar powerrelations mindandsoul 3dsamworthington zoesaldana sigourneyweaver stephenlang michellerodriguez giovanniribisi joeldavidmoore cchpounder wesstudi lazalonso dileeprao mattgerald seananthonymoran jasonwhyte scottlawrence kellykilgour jamespatrickpitt seanpatrickmurphy peterdillon kevindorman kelsonhenderson davidvanhorn jacobtomuri michaelblain-rozgay joncurry lukehawker woodyschultz petermensah soniayee jahnelcurfman ilramchoi kylawarren lisaroumain debrawilson chrismala taylorkibby jodielandau julielamm cullenb.madden josephbradymadden frankietorres austinwilson sarawilson tamicawashington-miller lucybriant nathanmeister gerryblair matthewchamberlain paulyates wraywilson jamesgaylyn melvinlenoclarkiii carvonfutrell brandonjelkes micahmoch hanniyahmuhammad christophernolen christaoliver aprilmariethomas bravitaa.threatt colinbleasdale mikebodnar mattclayton nicoledionne jamieharrison allanhenry anthonyingruber ashleyjeffery deanknowsley josephmika-hunt terrynotary kaipantano loganpithyou stuartpollock raja garethruck rhiansheehan t.j.storm jodietaylor aliciavela-bailey richardwhiteside nikiezambo julenerenee jamescameron'"
      ]
     },
     "execution_count": 29,
     "metadata": {},
     "output_type": "execute_result"
    }
   ],
   "source": [
    "movie_list['tags'][0]"
   ]
  },
  {
   "cell_type": "code",
   "execution_count": 30,
   "id": "c21b678a",
   "metadata": {},
   "outputs": [
    {
     "data": {
      "text/plain": [
       "'in the 22nd century, a parapleg marin is dispatch to the moon pandora on a uniqu mission, but becom torn between follow order and protect an alien civilization. action adventur fantasi sciencefictioncultureclash futur spacewar spacecoloni societi spacetravel futurist romanc space alien tribe alienplanet cgi marin soldier battl loveaffair antiwar powerrel mindandsoul 3dsamworthington zoesaldana sigourneyweav stephenlang michellerodriguez giovanniribisi joeldavidmoor cchpounder wesstudi lazalonso dileeprao mattgerald seananthonymoran jasonwhyt scottlawr kellykilgour jamespatrickpitt seanpatrickmurphi peterdillon kevindorman kelsonhenderson davidvanhorn jacobtomuri michaelblain-rozgay joncurri lukehawk woodyschultz petermensah soniaye jahnelcurfman ilramchoi kylawarren lisaroumain debrawilson chrismala taylorkibbi jodielandau julielamm cullenb.madden josephbradymadden frankietorr austinwilson sarawilson tamicawashington-mil lucybri nathanmeist gerryblair matthewchamberlain paulyat wraywilson jamesgaylyn melvinlenoclarkiii carvonfutrel brandonjelk micahmoch hanniyahmuhammad christophernolen christaoliv aprilmariethoma bravitaa.threatt colinbleasdal mikebodnar mattclayton nicoledionn jamieharrison allanhenri anthonyingrub ashleyjefferi deanknowsley josephmika-hunt terrynotari kaipantano loganpithy stuartpollock raja garethruck rhiansheehan t.j.storm jodietaylor aliciavela-bailey richardwhitesid nikiezambo julenerene jamescameron'"
      ]
     },
     "execution_count": 30,
     "metadata": {},
     "output_type": "execute_result"
    }
   ],
   "source": [
    "movie_list['l2'][0]"
   ]
  },
  {
   "cell_type": "code",
   "execution_count": 31,
   "id": "80aab837-7437-4768-b14c-e71b0aeb5606",
   "metadata": {},
   "outputs": [],
   "source": [
    "indexcs=pd.Series(movie_list.index,index=movie_list['title_x'])"
   ]
  },
  {
   "cell_type": "code",
   "execution_count": 32,
   "id": "fd71543d-b462-47d3-9b39-67ae07b77dff",
   "metadata": {},
   "outputs": [],
   "source": [
    "def getrec_overview(target_movie:str,mat):\n",
    "    movie_titles=movie_list['title_x'].values\n",
    "    if target_movie not in movie_titles:\n",
    "        print(target_movie,\"Movie not Recognized\")\n",
    "        return\n",
    "    \n",
    "    sims=mat\n",
    "    idx=indexcs[target_movie]\n",
    "    index_of_target_movie=np.where(movie_titles==target_movie)[0]\n",
    "    simsc=list(enumerate(sims[idx]))\n",
    "    \n",
    "    top10=sorted(simsc,key=lambda x:x[1],reverse=True)[1:11]\n",
    "    print(\"Movies similar to \",target_movie,\" based on \")\n",
    "    movieidx=[i[0] for i in top10]\n",
    "    return movie_list['title_x'].iloc[movieidx]"
   ]
  },
  {
   "cell_type": "code",
   "execution_count": 33,
   "id": "bc785785-7889-43e8-9ff0-27ee634d76ed",
   "metadata": {},
   "outputs": [],
   "source": [
    "sim1= cosine_similarity(vec1)\n",
    "sim2= cosine_similarity(vec2)\n",
    "sim3= cosine_similarity(vec3)"
   ]
  },
  {
   "cell_type": "code",
   "execution_count": 34,
   "id": "35dacf4d-f0e5-452c-acb4-a5e1481e5328",
   "metadata": {},
   "outputs": [],
   "source": [
    "def recommend(movie,similarity):\n",
    "    movie_titles=movie_list['title_x'].values\n",
    "    if movie not in movie_titles:\n",
    "        print(movie,\"Movie not Recognized\")\n",
    "        return\n",
    "    index = movie_list[movie_list['title_x'] == movie].index[0]\n",
    "    distances = sorted(list(enumerate(similarity[index])),reverse=True,key = lambda x: x[1])\n",
    "    for i in distances[1:6]:\n",
    "        print(movie_list.iloc[i[0]].title_x)"
   ]
  },
  {
   "cell_type": "code",
   "execution_count": 35,
   "id": "e233bc8f-2c7b-451a-83c6-aff2586f5f96",
   "metadata": {},
   "outputs": [
    {
     "name": "stdout",
     "output_type": "stream",
     "text": [
      "Aliens vs Predator: Requiem\n",
      "Predators\n",
      "Beowulf\n",
      "Aliens\n",
      "Predator\n"
     ]
    }
   ],
   "source": [
    "recommend(\"Avatar\",sim2)"
   ]
  },
  {
   "cell_type": "code",
   "execution_count": 36,
   "id": "155b9128",
   "metadata": {},
   "outputs": [
    {
     "name": "stdout",
     "output_type": "stream",
     "text": [
      "Predator\n",
      "Aliens\n",
      "Aliens vs Predator: Requiem\n",
      "Predators\n",
      "U.F.O.\n"
     ]
    }
   ],
   "source": [
    "recommend(\"Avatar\",sim3)"
   ]
  },
  {
   "cell_type": "code",
   "execution_count": 37,
   "id": "8491e1c3-525a-4e32-8ab3-717fc7c8a3ae",
   "metadata": {},
   "outputs": [
    {
     "name": "stdout",
     "output_type": "stream",
     "text": [
      "Avatar 2 Movie not Recognized\n"
     ]
    }
   ],
   "source": [
    "recommend(\"Avatar 2\",sim1)"
   ]
  },
  {
   "cell_type": "code",
   "execution_count": 38,
   "id": "e0edc630-05b2-4d54-90d3-3d04523298ea",
   "metadata": {},
   "outputs": [
    {
     "name": "stdout",
     "output_type": "stream",
     "text": [
      "The Dark Knight\n",
      "Batman & Robin\n",
      "Batman Returns\n",
      "Batman\n",
      "The Dark Knight Rises\n"
     ]
    }
   ],
   "source": [
    "recommend(\"Batman Begins\",sim1)"
   ]
  },
  {
   "cell_type": "code",
   "execution_count": 39,
   "id": "7f2cdc2c",
   "metadata": {},
   "outputs": [
    {
     "ename": "NameError",
     "evalue": "name 'sim' is not defined",
     "output_type": "error",
     "traceback": [
      "\u001b[1;31m---------------------------------------------------------------------------\u001b[0m",
      "\u001b[1;31mNameError\u001b[0m                                 Traceback (most recent call last)",
      "\u001b[1;32mc:\\Users\\Sai Krishna\\Desktop\\Movie_RecomenderSystem\\model_jup.ipynb Cell 40\u001b[0m in \u001b[0;36m1\n\u001b[1;32m----> <a href='vscode-notebook-cell:/c%3A/Users/Sai%20Krishna/Desktop/Movie_RecomenderSystem/model_jup.ipynb#X54sZmlsZQ%3D%3D?line=0'>1</a>\u001b[0m recommend(\u001b[39m\"\u001b[39m\u001b[39mFight Club\u001b[39m\u001b[39m\"\u001b[39m,sim)\n",
      "\u001b[1;31mNameError\u001b[0m: name 'sim' is not defined"
     ]
    }
   ],
   "source": [
    "recommend(\"Fight Club\",sim)"
   ]
  },
  {
   "cell_type": "code",
   "execution_count": null,
   "id": "f6535eea",
   "metadata": {},
   "outputs": [
    {
     "name": "stdout",
     "output_type": "stream",
     "text": [
      "Movies similar to  Batman Begins  based on \n"
     ]
    },
    {
     "data": {
      "text/plain": [
       "65                   The Dark Knight\n",
       "210                   Batman & Robin\n",
       "428                   Batman Returns\n",
       "1359                          Batman\n",
       "3              The Dark Knight Rises\n",
       "299                   Batman Forever\n",
       "238     Teenage Mutant Ninja Turtles\n",
       "4638        Amidst the Devil's Wings\n",
       "252                 The Green Hornet\n",
       "3942             Hobo with a Shotgun\n",
       "Name: title_x, dtype: object"
      ]
     },
     "execution_count": 43,
     "metadata": {},
     "output_type": "execute_result"
    }
   ],
   "source": [
    "getrec_overview(\"Batman Begins\",sim1)"
   ]
  },
  {
   "cell_type": "code",
   "execution_count": null,
   "id": "427e70bc",
   "metadata": {},
   "outputs": [
    {
     "data": {
      "text/plain": [
       "['JamesCameron']"
      ]
     },
     "execution_count": 38,
     "metadata": {},
     "output_type": "execute_result"
    }
   ],
   "source": [
    "movie_list['Director'][0]"
   ]
  },
  {
   "cell_type": "markdown",
   "id": "0ac1a621",
   "metadata": {},
   "source": []
  },
  {
   "cell_type": "code",
   "execution_count": 40,
   "id": "f2698724",
   "metadata": {},
   "outputs": [
    {
     "data": {
      "text/plain": [
       "<pymongo.results.InsertManyResult at 0x1cb62faed00>"
      ]
     },
     "execution_count": 40,
     "metadata": {},
     "output_type": "execute_result"
    }
   ],
   "source": [
    "import pymongo\n",
    "import json\n",
    "\n",
    "json_data = movie_list.to_json(orient=\"records\")\n",
    "\n",
    "# Parse the JSON string to a list of dictionaries\n",
    "records = json.loads(json_data)\n",
    "\n",
    "# Connect to MongoDB and get the collection\n",
    "client = pymongo.MongoClient(\"mongodb://localhost:27017/\")\n",
    "db = client[\"Movies\"]\n",
    "collection = db[\"details\"]\n",
    "\n",
    "# Insert the records into the collection\n",
    "collection.insert_many(records)\n"
   ]
  },
  {
   "cell_type": "code",
   "execution_count": null,
   "id": "0d095a8a",
   "metadata": {},
   "outputs": [],
   "source": []
  }
 ],
 "metadata": {
  "kernelspec": {
   "display_name": "Python 3 (ipykernel)",
   "language": "python",
   "name": "python3"
  },
  "language_info": {
   "codemirror_mode": {
    "name": "ipython",
    "version": 3
   },
   "file_extension": ".py",
   "mimetype": "text/x-python",
   "name": "python",
   "nbconvert_exporter": "python",
   "pygments_lexer": "ipython3",
   "version": "3.9.8"
  }
 },
 "nbformat": 4,
 "nbformat_minor": 5
}
